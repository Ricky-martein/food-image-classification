{
  "cells": [
    {
      "cell_type": "code",
      "execution_count": 1,
      "metadata": {
        "colab": {
          "base_uri": "https://localhost:8080/"
        },
        "id": "36sajYfie1W6",
        "outputId": "2e42195e-f53a-440a-e993-6bbffe0d8b76"
      },
      "outputs": [
        {
          "output_type": "stream",
          "name": "stdout",
          "text": [
            "Mounted at /content/drive\n"
          ]
        }
      ],
      "source": [
        "\n",
        "from google.colab import drive\n",
        "drive.mount('/content/drive')"
      ]
    },
    {
      "cell_type": "code",
      "execution_count": 2,
      "metadata": {
        "colab": {
          "base_uri": "https://localhost:8080/"
        },
        "id": "-Y89pSTuiY1l",
        "outputId": "eb44754a-d234-4e6b-998d-fa6fbc9c2875"
      },
      "outputs": [
        {
          "output_type": "stream",
          "name": "stdout",
          "text": [
            "Split Summary:\n",
            "TRAIN — 101 classes, 70705 images\n",
            "VAL — 101 classes, 15150 images\n",
            "TEST — 101 classes, 15154 images\n",
            "\n",
            " Class Matching Check:\n",
            "Classes in all splits identical?  True\n",
            "Classes only in train: set()\n",
            "Classes only in val: set()\n",
            "Classes only in test: set()\n"
          ]
        }
      ],
      "source": [
        "import os\n",
        "from collections import defaultdict\n",
        "\n",
        "# Defining all paths\n",
        "base_dir = '/content/drive/My Drive/Colab Notebooks/food_items'\n",
        "splits = ['train', 'val', 'test']\n",
        "split_stats = {}\n",
        "\n",
        "# Loop through each split\n",
        "for split in splits:\n",
        "    split_path = os.path.join(base_dir, split)\n",
        "    class_counts = defaultdict(int)\n",
        "    total_images = 0\n",
        "    class_names = []\n",
        "\n",
        "    for class_name in os.listdir(split_path):\n",
        "        class_path = os.path.join(split_path, class_name)\n",
        "        if os.path.isdir(class_path):\n",
        "            image_files = [\n",
        "                f for f in os.listdir(class_path)\n",
        "                if f.lower().endswith(('.jpg', '.jpeg', '.png'))\n",
        "            ]\n",
        "            count = len(image_files)\n",
        "            class_counts[class_name] = count\n",
        "            total_images += count\n",
        "            class_names.append(class_name)\n",
        "\n",
        "    split_stats[split] = {\n",
        "        'total_images': total_images,\n",
        "        'num_classes': len(class_counts),\n",
        "        'class_counts': class_counts,\n",
        "        'class_names': sorted(class_names)\n",
        "    }\n",
        "\n",
        "# Checking class consistency across all splits\n",
        "train_classes = set(split_stats['train']['class_names'])\n",
        "val_classes = set(split_stats['val']['class_names'])\n",
        "test_classes = set(split_stats['test']['class_names'])\n",
        "\n",
        "print(\"Split Summary:\")\n",
        "for split in splits:\n",
        "    print(f\"{split.upper()} — {split_stats[split]['num_classes']} classes, {split_stats[split]['total_images']} images\")\n",
        "\n",
        "print(\"\\n Class Matching Check:\")\n",
        "print(\"Classes in all splits identical? \", train_classes == val_classes == test_classes)\n",
        "print(\"Classes only in train:\", train_classes - val_classes - test_classes)\n",
        "print(\"Classes only in val:\", val_classes - train_classes - test_classes)\n",
        "print(\"Classes only in test:\", test_classes - train_classes - val_classes)"
      ]
    },
    {
      "cell_type": "code",
      "execution_count": null,
      "metadata": {
        "colab": {
          "base_uri": "https://localhost:8080/"
        },
        "id": "odIdhAv1yeB8",
        "outputId": "0e134e14-487b-4cc2-8397-8e24e8fab1f2"
      },
      "outputs": [
        {
          "output_type": "stream",
          "name": "stdout",
          "text": [
            "Top 20 food classes by image count:\n",
            "hamburger: 704 images\n",
            "huevos_rancheros: 701 images\n",
            "baby_back_ribs: 700 images\n",
            "beef_tartare: 700 images\n",
            "baklava: 700 images\n",
            "beef_carpaccio: 700 images\n",
            "apple_pie: 700 images\n",
            "beet_salad: 700 images\n",
            "bibimbap: 700 images\n",
            "beignets: 700 images\n",
            "breakfast_burrito: 700 images\n",
            "caprese_salad: 700 images\n",
            "bread_pudding: 700 images\n",
            "cannoli: 700 images\n",
            "carrot_cake: 700 images\n",
            "ceviche: 700 images\n",
            "caesar_salad: 700 images\n",
            "bruschetta: 700 images\n",
            "chicken_wings: 700 images\n",
            "chicken_curry: 700 images\n"
          ]
        }
      ],
      "source": [
        "import os\n",
        "from collections import defaultdict\n",
        "\n",
        "# Using the confirmed train directory\n",
        "train_dir = '/content/drive/My Drive/Colab Notebooks/food_items/train'\n",
        "\n",
        "# Counting the number of images per class\n",
        "class_counts = defaultdict(int)\n",
        "\n",
        "for class_name in os.listdir(train_dir):\n",
        "    class_path = os.path.join(train_dir, class_name)\n",
        "    if os.path.isdir(class_path):\n",
        "        image_files = [f for f in os.listdir(class_path) if f.lower().endswith(('.jpg', '.jpeg', '.png'))]\n",
        "        class_counts[class_name] = len(image_files)\n",
        "\n",
        "# Sorting the image count (descending)\n",
        "sorted_classes = sorted(class_counts.items(), key=lambda x: x[1], reverse=True)\n",
        "\n",
        "\n",
        "print(\"Top 20 food classes by image count:\")\n",
        "for name, count in sorted_classes[:20]:\n",
        "    print(f\"{name}: {count} images\")"
      ]
    },
    {
      "cell_type": "code",
      "source": [
        "from google.colab import drive\n",
        "drive.mount('/content/drive')"
      ],
      "metadata": {
        "colab": {
          "base_uri": "https://localhost:8080/"
        },
        "id": "HZivVpCINAl7",
        "outputId": "b30ac886-20e0-431c-e8da-f2f9295d03b3"
      },
      "execution_count": null,
      "outputs": [
        {
          "output_type": "stream",
          "name": "stdout",
          "text": [
            "Drive already mounted at /content/drive; to attempt to forcibly remount, call drive.mount(\"/content/drive\", force_remount=True).\n"
          ]
        }
      ]
    },
    {
      "cell_type": "code",
      "source": [
        "import os\n",
        "import shutil\n",
        "from pathlib import Path\n",
        "from google.colab import drive\n",
        "\n",
        "# Step 1: Mount Google Drive\n",
        "drive.mount('/content/drive')\n",
        "\n",
        "# Step 2: Define source and target directories\n",
        "original_base = Path(\"/content/drive/MyDrive/food_subset\")\n",
        "target_dir = Path(\"/content/drive/MyDrive/food_subset_shared_final\")\n",
        "\n",
        "# Step 3: Define selected categories\n",
        "categories = {\n",
        "    \"main_course\": [\"chicken_curry\", \"hamburger\", \"fried_rice\", \"caesar_salad\"],\n",
        "    \"dessert\": [\"apple_pie\", \"ice_cream\", \"carrot_cake\", \"baklava\"]\n",
        "}\n",
        "\n",
        "# Step 4: Limit number of images per class\n",
        "MAX_IMAGES = 100\n",
        "\n",
        "# Step 5: Copy files to new structure\n",
        "for split in [\"train\", \"val\", \"test\"]:\n",
        "    src_split_path = original_base / split\n",
        "    dst_split_path = target_dir / split\n",
        "\n",
        "    for label, foods in categories.items():\n",
        "        for food in foods:\n",
        "            src = src_split_path / food\n",
        "            dst = dst_split_path / label\n",
        "            dst.mkdir(parents=True, exist_ok=True)\n",
        "            if src.exists():\n",
        "                files = sorted(os.listdir(src))[:MAX_IMAGES]\n",
        "                for file in files:\n",
        "                    full_file = src / file\n",
        "                    if full_file.is_file():\n",
        "                        shutil.copy(full_file, dst)\n",
        "\n",
        "# Step 6: summary of what was saved\n",
        "subset_summary = {\n",
        "    split: {\n",
        "        label: len(os.listdir(target_dir / split / label))\n",
        "        for label in os.listdir(target_dir / split)\n",
        "    }\n",
        "    for split in [\"train\", \"val\", \"test\"]\n",
        "}\n",
        "\n",
        "subset_summary"
      ],
      "metadata": {
        "colab": {
          "base_uri": "https://localhost:8080/"
        },
        "id": "3EKEHNH5NF4W",
        "outputId": "2846f832-2c6c-4a70-96cf-844d82d3d73e"
      },
      "execution_count": null,
      "outputs": [
        {
          "output_type": "stream",
          "name": "stdout",
          "text": [
            "Drive already mounted at /content/drive; to attempt to forcibly remount, call drive.mount(\"/content/drive\", force_remount=True).\n"
          ]
        },
        {
          "output_type": "execute_result",
          "data": {
            "text/plain": [
              "{'train': {'main_course': 400, 'dessert': 200},\n",
              " 'val': {'main_course': 400, 'dessert': 200},\n",
              " 'test': {'main_course': 400, 'dessert': 200}}"
            ]
          },
          "metadata": {},
          "execution_count": 11
        }
      ]
    },
    {
      "cell_type": "code",
      "source": [
        "import os\n",
        "import pandas as pd\n",
        "\n",
        "base_dir = \"/content/drive/MyDrive/food_subset_shared_final\"\n",
        "split_counts = {}\n",
        "\n",
        "for split in [\"train\", \"val\", \"test\"]:\n",
        "    total = 0\n",
        "    split_path = os.path.join(base_dir, split)\n",
        "    if not os.path.exists(split_path):\n",
        "        print(f\"Folder not found: {split_path}\")\n",
        "        continue\n",
        "    for category in os.listdir(split_path):\n",
        "        class_dir = os.path.join(split_path, category)\n",
        "        if os.path.isdir(class_dir):\n",
        "            total += len(os.listdir(class_dir))\n",
        "    split_counts[split] = total\n",
        "\n",
        "total_images = sum(split_counts.values())\n",
        "\n",
        "if total_images == 0:\n",
        "    print(\" No images found in any split. Please check the folder structure.\")\n",
        "else:\n",
        "    for split, count in split_counts.items():\n",
        "        ratio = round((count / total_images) * 100, 2)\n",
        "        print(f\"{split.upper():<5} → {count} images ({ratio}%)\")"
      ],
      "metadata": {
        "id": "6iz9hfRnrwsA",
        "colab": {
          "base_uri": "https://localhost:8080/"
        },
        "outputId": "ffa8e650-3c6c-4cd7-aef8-be9527127030"
      },
      "execution_count": 6,
      "outputs": [
        {
          "output_type": "stream",
          "name": "stdout",
          "text": [
            "TRAIN → 600 images (33.33%)\n",
            "VAL   → 600 images (33.33%)\n",
            "TEST  → 600 images (33.33%)\n"
          ]
        }
      ]
    },
    {
      "cell_type": "code",
      "source": [
        "import os\n",
        "from PIL import Image\n",
        "import pandas as pd\n",
        "\n",
        "# Set your dataset base path\n",
        "base_dir = \"/content/drive/MyDrive/food_subset_shared_final\"\n",
        "\n",
        "# To collect invalid image info\n",
        "corrupt_images = []\n",
        "\n",
        "# Loop through each split folder\n",
        "for split in [\"train\", \"val\", \"test\"]:\n",
        "    split_path = os.path.join(base_dir, split)\n",
        "    if os.path.exists(split_path):\n",
        "        for category in os.listdir(split_path):\n",
        "            category_path = os.path.join(split_path, category)\n",
        "            if os.path.isdir(category_path):\n",
        "                for fname in os.listdir(category_path):\n",
        "                    file_path = os.path.join(category_path, fname)\n",
        "                    try:\n",
        "                        with Image.open(file_path) as img:\n",
        "                            img.verify()  # Check for file corruption\n",
        "                    except Exception as e:\n",
        "                        corrupt_images.append({\n",
        "                            \"Split\": split,\n",
        "                            \"Category\": category,\n",
        "                            \"File\": fname,\n",
        "                            \"Error\": str(e)\n",
        "                        })\n",
        "\n",
        "# Creating summary table\n",
        "df_corrupt = pd.DataFrame(corrupt_images)\n",
        "\n",
        "#results\n",
        "if df_corrupt.empty:\n",
        "    print(\" All images are valid. No corrupt images found.\")\n",
        "else:\n",
        "    print(\" Found corrupt images:\")\n",
        "    print(df_corrupt)"
      ],
      "metadata": {
        "colab": {
          "base_uri": "https://localhost:8080/"
        },
        "id": "eZ16kAEDQae1",
        "outputId": "f5a01b6c-66c0-4618-8334-3aaeb729dfa0"
      },
      "execution_count": 7,
      "outputs": [
        {
          "output_type": "stream",
          "name": "stdout",
          "text": [
            "✅ All images are valid. No corrupt images found.\n"
          ]
        }
      ]
    },
    {
      "cell_type": "code",
      "source": [
        "import os\n",
        "import shutil\n",
        "import random\n",
        "from tqdm import tqdm\n",
        "\n",
        "# Step 1: Set paths\n",
        "original_data_dir = \"/content/drive/MyDrive/food_subset_shared_final/train\"\n",
        "resplit_dir = \"/content/drive/MyDrive/food_subset_resplit_70_10_10\"\n",
        "\n",
        "\n",
        "# Step 3: Clean old folder if exists\n",
        "if os.path.exists(resplit_dir):\n",
        "    shutil.rmtree(resplit_dir)\n",
        "\n",
        "# Step 4: Create folder structure\n",
        "splits = [\"train\", \"val\", \"test\"]\n",
        "categories = [\"main_course\", \"dessert\"]\n",
        "\n",
        "for split in splits:\n",
        "    for category in categories:\n",
        "        os.makedirs(os.path.join(resplit_dir, split, category), exist_ok=True)\n",
        "\n",
        "# Step 5: Perform splitting\n",
        "for category in tqdm(categories, desc=\"Processing categories\"):\n",
        "    category_path = os.path.join(original_data_dir, category)\n",
        "    files = [f for f in os.listdir(category_path) if f.lower().endswith(('.jpg', '.jpeg', '.png'))]\n",
        "    random.shuffle(files)\n",
        "\n",
        "    total = len(files)\n",
        "    train_end = int(0.7 * total)\n",
        "    val_end = train_end + int(0.1 * total)\n",
        "\n",
        "    split_map = {\n",
        "        \"train\": files[:train_end],\n",
        "        \"val\": files[train_end:val_end],\n",
        "        \"test\": files[val_end:]\n",
        "    }\n",
        "\n",
        "    for split, split_files in split_map.items():\n",
        "        for f in split_files:\n",
        "            src = os.path.join(category_path, f)\n",
        "            dst = os.path.join(resplit_dir, split, category, f)\n",
        "            shutil.copy2(src, dst)\n",
        "\n",
        "print(\" Done: Images re-split into 70% train, 10% val, 10% test.\")"
      ],
      "metadata": {
        "colab": {
          "base_uri": "https://localhost:8080/"
        },
        "id": "ysMROil3VgSM",
        "outputId": "fe6e1923-e3cd-4282-adf1-66a32c19c60b"
      },
      "execution_count": 8,
      "outputs": [
        {
          "output_type": "stream",
          "name": "stdout",
          "text": [
            "Drive already mounted at /content/drive; to attempt to forcibly remount, call drive.mount(\"/content/drive\", force_remount=True).\n"
          ]
        },
        {
          "output_type": "stream",
          "name": "stderr",
          "text": [
            "Processing categories: 100%|██████████| 2/2 [00:06<00:00,  3.40s/it]"
          ]
        },
        {
          "output_type": "stream",
          "name": "stdout",
          "text": [
            "✅ Done: Images re-split into 70% train, 10% val, 10% test.\n"
          ]
        },
        {
          "output_type": "stream",
          "name": "stderr",
          "text": [
            "\n"
          ]
        }
      ]
    },
    {
      "cell_type": "code",
      "source": [
        "\n",
        "resplit_dir = \"/content/drive/MyDrive/food_subset_resplit_70_10_10\"\n",
        "\n",
        "split_counts = {}\n",
        "total_images = 0\n",
        "\n",
        "for split in [\"train\", \"val\", \"test\"]:\n",
        "    count = 0\n",
        "    split_path = os.path.join(resplit_dir, split)\n",
        "    if not os.path.exists(split_path):\n",
        "        print(f\"Folder not found: {split_path}\")\n",
        "        continue\n",
        "    for category in os.listdir(split_path):\n",
        "        category_path = os.path.join(split_path, category)\n",
        "        count += len([img for img in os.listdir(category_path) if img.lower().endswith(('.jpg', '.jpeg', '.png'))])\n",
        "    split_counts[split] = count\n",
        "    total_images += count\n",
        "\n",
        "#summary\n",
        "print(\"Final Image Split Summary:\")\n",
        "for split, count in split_counts.items():\n",
        "    ratio = round((count / total_images) * 100, 2) if total_images else 0\n",
        "    print(f\"{split.upper():<5} → {count} images ({ratio}%)\")"
      ],
      "metadata": {
        "colab": {
          "base_uri": "https://localhost:8080/"
        },
        "id": "tVqD5fBBV2vn",
        "outputId": "2d75b3c1-d9a9-4880-fcf1-4c470a7b4931"
      },
      "execution_count": 13,
      "outputs": [
        {
          "output_type": "stream",
          "name": "stdout",
          "text": [
            "Final Image Split Summary:\n",
            "TRAIN → 420 images (70.0%)\n",
            "VAL   → 60 images (10.0%)\n",
            "TEST  → 120 images (20.0%)\n"
          ]
        }
      ]
    }
  ],
  "metadata": {
    "colab": {
      "provenance": [],
      "gpuType": "T4"
    },
    "kernelspec": {
      "display_name": "Python 3",
      "name": "python3"
    },
    "language_info": {
      "name": "python"
    },
    "accelerator": "GPU"
  },
  "nbformat": 4,
  "nbformat_minor": 0
}